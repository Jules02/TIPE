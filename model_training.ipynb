{
 "cells": [
  {
   "cell_type": "markdown",
   "id": "1510f950",
   "metadata": {},
   "source": [
    "### Importation des bibliothèques"
   ]
  },
  {
   "cell_type": "code",
   "execution_count": 1,
   "id": "1bbd5584",
   "metadata": {},
   "outputs": [],
   "source": [
    "import os\n",
    "\n",
    "import numpy as np\n",
    "\n",
    "import matplotlib.pyplot as plt\n",
    "\n",
    "from skimage import io, color, data, transform\n",
    "from sklearn.datasets import fetch_lfw_people\n",
    "from skimage.feature import hog\n",
    "\n",
    "from sklearn.svm import LinearSVC\n",
    "from sklearn.model_selection import GridSearchCV\n",
    "from sklearn.feature_extraction.image import PatchExtractor\n",
    "\n",
    "from itertools import chain  \n",
    "\n",
    "import joblib\n",
    "\n",
    "from TIPEutils import sliding_window"
   ]
  },
  {
   "cell_type": "markdown",
   "id": "8568ee50",
   "metadata": {},
   "source": [
    "### Ouverture des hard negatives examples"
   ]
  },
  {
   "cell_type": "code",
   "execution_count": 15,
   "id": "a876ca79",
   "metadata": {},
   "outputs": [
    {
     "name": "stdout",
     "output_type": "stream",
     "text": [
      "[[[0.24630943 0.24747171 0.22073932 ... 0.16764811 0.16295249 0.16315665]\n",
      "  [0.24630943 0.24747171 0.22073932 ... 0.16764811 0.16295249 0.16315665]\n",
      "  [0.21571973 0.21654826 0.19749213 ... 0.19456473 0.1859618  0.18633584]\n",
      "  ...\n",
      "  [0.04663485 0.04734976 0.03090673 ... 0.07542259 0.0595903  0.06027866]\n",
      "  [0.05544674 0.05567291 0.05047118 ... 0.04561089 0.0441716  0.04423417]\n",
      "  [0.05544674 0.05567291 0.05047118 ... 0.04561089 0.0441716  0.04423417]]\n",
      "\n",
      " [[0.35857176 0.3257549  0.2870898  ... 0.34210078 0.37345843 0.41013647]\n",
      "  [0.3681349  0.32804039 0.28208275 ... 0.11473216 0.12619922 0.14802431]\n",
      "  [0.37517529 0.33732078 0.2907898  ... 0.22742392 0.21310667 0.20077647]\n",
      "  ...\n",
      "  [0.07567137 0.07235294 0.05666667 ... 0.59919725 0.60311882 0.60311882]\n",
      "  [0.07369922 0.07009804 0.05833333 ... 0.60311882 0.60311882 0.60311882]\n",
      "  [0.05967961 0.07176471 0.07568627 ... 0.62272667 0.62272667 0.62272667]]\n",
      "\n",
      " [[0.42371784 0.41897184 0.40756535 ... 0.46493339 0.47514019 0.4857431 ]\n",
      "  [0.42269743 0.43036453 0.43844335 ... 0.4712628  0.48147933 0.48569342]\n",
      "  [0.43599669 0.43921405 0.42985902 ... 0.48465358 0.49466787 0.49417192]\n",
      "  ...\n",
      "  [0.88821188 0.90104945 0.90494092 ... 0.62595814 0.6434093  0.64546725]\n",
      "  [0.8904593  0.89712496 0.89904112 ... 0.63849858 0.64725305 0.64341293]\n",
      "  [0.88837664 0.89524294 0.89672585 ... 0.64273476 0.64844267 0.64184918]]\n",
      "\n",
      " ...\n",
      "\n",
      " [[0.64031928 0.64123413 0.62019263 ... 0.91010662 0.90982625 0.90983844]\n",
      "  [0.64031928 0.64123413 0.62019263 ... 0.91010662 0.90982625 0.90983844]\n",
      "  [0.62924751 0.62938158 0.62629812 ... 0.9115543  0.91484262 0.91469965]\n",
      "  ...\n",
      "  [0.53704095 0.53722156 0.53306741 ... 0.67763649 0.68079095 0.6806538 ]\n",
      "  [0.5663787  0.56620458 0.57020924 ... 0.727843   0.7142776  0.7148674 ]\n",
      "  [0.5663787  0.56620458 0.57020924 ... 0.727843   0.7142776  0.7148674 ]]\n",
      "\n",
      " [[0.2235303  0.20844513 0.22843534 ... 0.98524854 0.98244385 0.98244305]\n",
      "  [0.18820042 0.16965646 0.19623795 ... 0.99574709 0.99530732 0.99485015]\n",
      "  [0.2387847  0.21972506 0.23544855 ... 0.99282395 0.99229189 0.98420457]\n",
      "  ...\n",
      "  [0.08480988 0.09572175 0.10178177 ... 0.96781039 0.96422416 0.96301728]\n",
      "  [0.12351937 0.1254891  0.11748632 ... 0.96594395 0.9642239  0.96301737]\n",
      "  [0.14020632 0.13681348 0.11007262 ... 0.97130227 0.97151218 0.9637829 ]]\n",
      "\n",
      " [[0.10848183 0.10754882 0.1290081  ... 0.12034603 0.10536124 0.10601276]\n",
      "  [0.10848183 0.10754882 0.1290081  ... 0.12034603 0.10536124 0.10601276]\n",
      "  [0.11106318 0.1101479  0.13119938 ... 0.1536945  0.14220558 0.1427051 ]\n",
      "  ...\n",
      "  [0.18367987 0.18356754 0.18615122 ... 0.69752372 0.71241543 0.71176796]\n",
      "  [0.17745989 0.17741042 0.17854838 ... 0.71024233 0.71738859 0.71707789]\n",
      "  [0.17745989 0.17741042 0.17854838 ... 0.71024233 0.71738859 0.71707789]]]\n"
     ]
    }
   ],
   "source": [
    "hne = np.load('hne3.npy')\n",
    "print(hne)"
   ]
  },
  {
   "cell_type": "markdown",
   "id": "013085e2",
   "metadata": {},
   "source": [
    "### Chargement des données d'entraînement"
   ]
  },
  {
   "cell_type": "code",
   "execution_count": 16,
   "id": "9a6a4c6d",
   "metadata": {},
   "outputs": [
    {
     "name": "stderr",
     "output_type": "stream",
     "text": [
      "<ipython-input-16-0fa095b98f10>:8: FutureWarning: The behavior of rgb2gray will change in scikit-image 0.19. Currently, rgb2gray allows 2D grayscale image to be passed as inputs and leaves them unmodified as outputs. Starting from version 0.19, 2D arrays will be treated as 1D images with 3 channels.\n",
      "  images = [color.rgb2gray(getattr(data, name)())\n"
     ]
    },
    {
     "data": {
      "image/png": "[encoded data removed]",
      "text/plain": [
       "<Figure size 432x288 with 1 Axes>"
      ]
     },
     "metadata": {
      "needs_background": "light"
     },
     "output_type": "display_data"
    }
   ],
   "source": [
    "faces = fetch_lfw_people()             # Visages du dataset LFW\n",
    "positive_patches = faces.images        # Ces images seront nos \"zones positives\"\n",
    "\n",
    "# Pour les \"zones négatives\", on prend des images de thémes variés qui ne contiennent pas de visage\n",
    "imgs_to_use = ['brick', 'text', 'moon', 'grass', 'gravel',\n",
    "               'page', 'clock', 'immunohistochemistry',\n",
    "               'chelsea', 'coffee', 'hubble_deep_field', 'cell']\n",
    "images = [color.rgb2gray(getattr(data, name)())\n",
    "          for name in imgs_to_use]\n",
    "\n",
    "def extract_patches(img, N, scale=1.0, patch_size=positive_patches[0].shape):\n",
    "    ''' Extrait des patches d'une image\n",
    "    '''\n",
    "    extracted_patch_size = tuple((scale * np.array(patch_size)).astype(int))\n",
    "    extractor = PatchExtractor(patch_size=extracted_patch_size,\n",
    "                               max_patches=N, random_state=0)\n",
    "    patches = extractor.transform(img[np.newaxis])\n",
    "    if scale != 1:\n",
    "        patches = np.array([transform.resize(patch, patch_size)\n",
    "                            for patch in patches])\n",
    "    return patches\n",
    "\n",
    "negatives_patches = np.vstack([extract_patches(im, 1000, scale)\n",
    "                              for im in images for scale in [0.5, 1.0, 2.0]])\n",
    "\n",
    "# On ajoute les hard negatives examples\n",
    "negatives_patches = np.vstack((negatives_patches, hne))\n",
    "\n",
    "fig, ax = plt.subplots()\n",
    "ax.imshow(negatives_patches[50], cmap='gray')\n",
    "ax.axis('off')\n",
    "\n",
    "X_train = np.array([hog(img)\n",
    "                    for img in chain(positive_patches,\n",
    "                                     negatives_patches)])\n",
    "y_train = np.zeros(X_train.shape[0])\n",
    "y_train[:positive_patches.shape[0]] = 1     # les positifs auront le label 1, les négatifs 0"
   ]
  },
  {
   "cell_type": "markdown",
   "id": "b419fc40",
   "metadata": {},
   "source": [
    "### à entrainer"
   ]
  },
  {
   "cell_type": "code",
   "execution_count": 17,
   "id": "4141e91d",
   "metadata": {},
   "outputs": [
    {
     "name": "stderr",
     "output_type": "stream",
     "text": [
      "/Users/julesdupont/opt/anaconda3/lib/python3.8/site-packages/sklearn/svm/_base.py:985: ConvergenceWarning: Liblinear failed to converge, increase the number of iterations.\n",
      "  warnings.warn(\"Liblinear failed to converge, increase \"\n",
      "/Users/julesdupont/opt/anaconda3/lib/python3.8/site-packages/sklearn/svm/_base.py:985: ConvergenceWarning: Liblinear failed to converge, increase the number of iterations.\n",
      "  warnings.warn(\"Liblinear failed to converge, increase \"\n",
      "/Users/julesdupont/opt/anaconda3/lib/python3.8/site-packages/sklearn/svm/_base.py:985: ConvergenceWarning: Liblinear failed to converge, increase the number of iterations.\n",
      "  warnings.warn(\"Liblinear failed to converge, increase \"\n",
      "/Users/julesdupont/opt/anaconda3/lib/python3.8/site-packages/sklearn/svm/_base.py:985: ConvergenceWarning: Liblinear failed to converge, increase the number of iterations.\n",
      "  warnings.warn(\"Liblinear failed to converge, increase \"\n",
      "/Users/julesdupont/opt/anaconda3/lib/python3.8/site-packages/sklearn/svm/_base.py:985: ConvergenceWarning: Liblinear failed to converge, increase the number of iterations.\n",
      "  warnings.warn(\"Liblinear failed to converge, increase \"\n",
      "/Users/julesdupont/opt/anaconda3/lib/python3.8/site-packages/sklearn/svm/_base.py:985: ConvergenceWarning: Liblinear failed to converge, increase the number of iterations.\n",
      "  warnings.warn(\"Liblinear failed to converge, increase \"\n",
      "/Users/julesdupont/opt/anaconda3/lib/python3.8/site-packages/sklearn/svm/_base.py:985: ConvergenceWarning: Liblinear failed to converge, increase the number of iterations.\n",
      "  warnings.warn(\"Liblinear failed to converge, increase \"\n",
      "/Users/julesdupont/opt/anaconda3/lib/python3.8/site-packages/sklearn/svm/_base.py:985: ConvergenceWarning: Liblinear failed to converge, increase the number of iterations.\n",
      "  warnings.warn(\"Liblinear failed to converge, increase \"\n",
      "/Users/julesdupont/opt/anaconda3/lib/python3.8/site-packages/sklearn/svm/_base.py:985: ConvergenceWarning: Liblinear failed to converge, increase the number of iterations.\n",
      "  warnings.warn(\"Liblinear failed to converge, increase \"\n",
      "/Users/julesdupont/opt/anaconda3/lib/python3.8/site-packages/sklearn/svm/_base.py:985: ConvergenceWarning: Liblinear failed to converge, increase the number of iterations.\n",
      "  warnings.warn(\"Liblinear failed to converge, increase \"\n"
     ]
    },
    {
     "data": {
      "text/plain": [
       "0.9917360406091369"
      ]
     },
     "execution_count": 17,
     "metadata": {},
     "output_type": "execute_result"
    }
   ],
   "source": [
    "grid = GridSearchCV(LinearSVC(), {'C': [1.0, 2.0, 4.0, 8.0]})\n",
    "grid.fit(X_train, y_train)\n",
    "grid.best_score_"
   ]
  },
  {
   "cell_type": "code",
   "execution_count": 18,
   "id": "6e2bdb41",
   "metadata": {},
   "outputs": [
    {
     "data": {
      "text/plain": [
       "{'C': 1.0}"
      ]
     },
     "execution_count": 18,
     "metadata": {},
     "output_type": "execute_result"
    }
   ],
   "source": [
    "grid.best_params_"
   ]
  },
  {
   "cell_type": "code",
   "execution_count": 19,
   "id": "bbd53b05",
   "metadata": {},
   "outputs": [],
   "source": [
    "model = grid.best_estimator_\n",
    "# model.fit(X_train, y_train)    pas besoin car déjà refit ??"
   ]
  },
  {
   "cell_type": "markdown",
   "id": "b907b178",
   "metadata": {},
   "source": [
    "### Export du modèle"
   ]
  },
  {
   "cell_type": "code",
   "execution_count": 20,
   "id": "d6380d81",
   "metadata": {},
   "outputs": [
    {
     "data": {
      "text/plain": [
       "['model_04.sav']"
      ]
     },
     "execution_count": 20,
     "metadata": {},
     "output_type": "execute_result"
    }
   ],
   "source": [
    "filename = 'model_04.sav'\n",
    "joblib.dump(model, filename, compress=9)\n"
   ]
  },
  {
   "cell_type": "code",
   "execution_count": 5,
   "id": "5e955f11",
   "metadata": {},
   "outputs": [
    {
     "data": {
      "text/plain": [
       "[4, 5, 6]"
      ]
     },
     "execution_count": 5,
     "metadata": {},
     "output_type": "execute_result"
    }
   ],
   "source": [
    "[4, 5] + [6]"
   ]
  },
  {
   "cell_type": "code",
   "execution_count": null,
   "id": "dc2290a7",
   "metadata": {},
   "outputs": [],
   "source": []
  }
 ],
 "metadata": {
  "kernelspec": {
   "display_name": "Python 3",
   "language": "python",
   "name": "python3"
  },
  "language_info": {
   "codemirror_mode": {
    "name": "ipython",
    "version": 3
   },
   "file_extension": ".py",
   "mimetype": "text/x-python",
   "name": "python",
   "nbconvert_exporter": "python",
   "pygments_lexer": "ipython3",
   "version": "3.8.8"
  }
 },
 "nbformat": 4,
 "nbformat_minor": 5
}
