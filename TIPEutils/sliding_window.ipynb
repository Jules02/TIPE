{
 "cells": [
  {
   "cell_type": "code",
   "execution_count": 4,
   "id": "277af228",
   "metadata": {},
   "outputs": [],
   "source": [
    "import imutils\n",
    "\n",
    "import numpy as np\n",
    "from skimage import io, color, transform"
   ]
  },
  {
   "cell_type": "code",
   "execution_count": 7,
   "id": "e42922d1",
   "metadata": {},
   "outputs": [],
   "source": [
    "def pyramid(image, scale, minSize=(30, 30)):\n",
    "    yield image\n",
    "    \n",
    "    while True:\n",
    "        w = int(image.shape[1] / scale)\n",
    "        image = imutils.resize(image, width=w)\n",
    "        \n",
    "        if image.shape[0] < minSize[1] or image.shape[1] < minSize[0]:\n",
    "            break\n",
    "            \n",
    "        yield image\n",
    "\n",
    "def sliding_window(image, stepSize, windowSize):\n",
    "    for y in range(0, image.shape[0], stepSize):\n",
    "        for x in range(0, image.shape[1], stepSize):\n",
    "            yield (x, y, image[y:y + windowSize[1], x:x + windowSize[0]])"
   ]
  },
  {
   "cell_type": "code",
   "execution_count": 5,
   "id": "a4c0dec7",
   "metadata": {},
   "outputs": [],
   "source": [
    "def main(image, winW=128, winH=128):\n",
    "    indices, patches = [], []\n",
    "    for resized in pyramid(image, scale=1.5):\n",
    "    # loop over the sliding window for each layer of the pyramid\n",
    "    for (x, y, window) in sliding_window(resized, stepSize=16, windowSize=(winW, winH)):\n",
    "        # if the window does not meet our desired window size, ignore it\n",
    "        if window.shape[0] != winH or window.shape[1] != winW:\n",
    "            continue\n",
    "            \n",
    "        indices.append((x,y))\n",
    "        patches.append(window)\n",
    "\n",
    "    return indices, patches"
   ]
  },
  {
   "cell_type": "code",
   "execution_count": null,
   "id": "ad49b2c2",
   "metadata": {},
   "outputs": [],
   "source": []
  }
 ],
 "metadata": {
  "kernelspec": {
   "display_name": "Python 3",
   "language": "python",
   "name": "python3"
  },
  "language_info": {
   "codemirror_mode": {
    "name": "ipython",
    "version": 3
   },
   "file_extension": ".py",
   "mimetype": "text/x-python",
   "name": "python",
   "nbconvert_exporter": "python",
   "pygments_lexer": "ipython3",
   "version": "3.8.8"
  }
 },
 "nbformat": 4,
 "nbformat_minor": 5
}
